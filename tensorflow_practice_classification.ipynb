{
  "nbformat": 4,
  "nbformat_minor": 0,
  "metadata": {
    "colab": {
      "provenance": [],
      "authorship_tag": "ABX9TyOG8ZZwuxlCPtFxYe0H2hfc",
      "include_colab_link": true
    },
    "kernelspec": {
      "name": "python3",
      "display_name": "Python 3"
    },
    "language_info": {
      "name": "python"
    }
  },
  "cells": [
    {
      "cell_type": "markdown",
      "metadata": {
        "id": "view-in-github",
        "colab_type": "text"
      },
      "source": [
        "<a href=\"https://colab.research.google.com/github/Nitsh-kumar/ml_repo/blob/main/tensorflow_practice_classification.ipynb\" target=\"_parent\"><img src=\"https://colab.research.google.com/assets/colab-badge.svg\" alt=\"Open In Colab\"/></a>"
      ]
    },
    {
      "cell_type": "code",
      "execution_count": 41,
      "metadata": {
        "id": "Gxo99oQ2fIEX"
      },
      "outputs": [],
      "source": [
        "import numpy as np\n",
        "import matplotlib.pyplot as plt\n",
        "import tensorflow as tf\n",
        "from tensorflow.keras.datasets import mnist\n",
        "from tensorflow.keras.utils import to_categorical\n",
        "from tensorflow.keras.models import Sequential\n",
        "from tensorflow.keras.layers import Dense, Dropout, Flatten\n",
        "from tensorflow.keras.layers import Conv2D, MaxPooling2D\n",
        "from tensorflow.keras import backend as K"
      ]
    },
    {
      "cell_type": "code",
      "source": [
        "# this will load the mnist data set into train and test data sets\n",
        "(x_train, y_train), (x_test, y_test) = mnist.load_data()"
      ],
      "metadata": {
        "id": "kkx9pv0G3ggK"
      },
      "execution_count": 28,
      "outputs": []
    },
    {
      "cell_type": "code",
      "source": [
        "\n",
        "x_train.shape # this is user to know the size of the data set"
      ],
      "metadata": {
        "colab": {
          "base_uri": "https://localhost:8080/"
        },
        "id": "lFTcR1-x3qsz",
        "outputId": "4827004f-e851-4bfd-ff10-6ec3f7951d6e"
      },
      "execution_count": 29,
      "outputs": [
        {
          "output_type": "execute_result",
          "data": {
            "text/plain": [
              "(60000, 28, 28)"
            ]
          },
          "metadata": {},
          "execution_count": 29
        }
      ]
    },
    {
      "cell_type": "code",
      "source": [
        "num_label = len(np.unique(y_train)) # this is used to fetch numer of unique label as they as 10 as of now\n",
        "print(\"Number of labels\", num_label)"
      ],
      "metadata": {
        "colab": {
          "base_uri": "https://localhost:8080/"
        },
        "id": "eqtVjqbI3udA",
        "outputId": "ed796b9d-a940-4607-9bf9-dda76d1f2aea"
      },
      "execution_count": 30,
      "outputs": [
        {
          "output_type": "stream",
          "name": "stdout",
          "text": [
            "Number of labels 10\n"
          ]
        }
      ]
    },
    {
      "cell_type": "code",
      "source": [
        "unique , counts = np.unique(y_train , return_counts = True) #this code tell how the records are distributed with each digit\n",
        "print(\"Train labels\", dict(zip(unique , counts)))"
      ],
      "metadata": {
        "colab": {
          "base_uri": "https://localhost:8080/"
        },
        "id": "nhXGhxk-3y_Q",
        "outputId": "e5c37cfc-5d36-481b-effe-91d7350f72ae"
      },
      "execution_count": 31,
      "outputs": [
        {
          "output_type": "stream",
          "name": "stdout",
          "text": [
            "Train labels {0: 5923, 1: 6742, 2: 5958, 3: 6131, 4: 5842, 5: 5421, 6: 5918, 7: 6265, 8: 5851, 9: 5949}\n"
          ]
        }
      ]
    },
    {
      "cell_type": "code",
      "source": [
        "indices = np.random.randint(x_train.shape[0] , size = 10) # this is the random function to fetch random indices of the images from the\n",
        "images = x_train[indices]                                 #train dataset\n",
        "labels = y_train[indices]"
      ],
      "metadata": {
        "id": "z4kgrdUk4asE"
      },
      "execution_count": 32,
      "outputs": []
    },
    {
      "cell_type": "code",
      "source": [
        "plt.figure(figsize = (4,4)) # this code will plot all the figures with a size of 4x4 inches (by default and it can be changed)\n",
        "for i in range(10):\n",
        "    plt.subplot(5,5,i+1)\n",
        "    plt.imshow(images[i] , cmap = plt.cm.binary)\n",
        "    plt.xticks([])\n",
        "    plt.yticks([])"
      ],
      "metadata": {
        "colab": {
          "base_uri": "https://localhost:8080/",
          "height": 153
        },
        "id": "tpqADpya47GM",
        "outputId": "90ec3206-0174-43eb-d932-c00984357b9a"
      },
      "execution_count": 33,
      "outputs": [
        {
          "output_type": "display_data",
          "data": {
            "text/plain": [
              "<Figure size 400x400 with 10 Axes>"
            ],
            "image/png": "[encoded data removed]"
          },
          "metadata": {}
        }
      ]
    },
    {
      "cell_type": "code",
      "source": [
        "y_train = to_categorical(y_train)# this function is used to encode images into one hot encoded vector\n",
        "y_test = to_categorical(y_test)# for train and test data set , for more info https://www.tensorflow.org/api_docs/python/tf/keras/utils/to_categorical"
      ],
      "metadata": {
        "colab": {
          "base_uri": "https://localhost:8080/"
        },
        "id": "9S_TWzgu4-2D",
        "outputId": "1f23e08f-17a2-480f-aa80-fb20811f8828"
      },
      "execution_count": 34,
      "outputs": [
        {
          "output_type": "execute_result",
          "data": {
            "text/plain": [
              "array([[0., 0., 0., ..., 0., 0., 0.],\n",
              "       [1., 0., 0., ..., 0., 0., 0.],\n",
              "       [0., 0., 0., ..., 0., 0., 0.],\n",
              "       ...,\n",
              "       [0., 0., 0., ..., 0., 0., 0.],\n",
              "       [0., 0., 0., ..., 0., 0., 0.],\n",
              "       [0., 0., 0., ..., 0., 1., 0.]], dtype=float32)"
            ]
          },
          "metadata": {},
          "execution_count": 34
        }
      ]
    },
    {
      "cell_type": "code",
      "source": [
        "image_size = x_train.shape[1]\n",
        "input_shape = (image_size * image_size )"
      ],
      "metadata": {
        "id": "t1OD9iyr66qN"
      },
      "execution_count": 35,
      "outputs": []
    },
    {
      "cell_type": "code",
      "source": [
        "x_train[0].shape # as this is a 2 dimensional array so we need to perform dimensionality reduction\n",
        "#for more info :- https://www.geeksforgeeks.org/dimensionality-reduction/"
      ],
      "metadata": {
        "colab": {
          "base_uri": "https://localhost:8080/"
        },
        "id": "VyKVjpF6-1ub",
        "outputId": "dcb6e969-7044-4e25-e502-475cc08d3015"
      },
      "execution_count": 38,
      "outputs": [
        {
          "output_type": "execute_result",
          "data": {
            "text/plain": [
              "(28, 28)"
            ]
          },
          "metadata": {},
          "execution_count": 38
        }
      ]
    },
    {
      "cell_type": "code",
      "source": [
        "x_train = np.reshape(x_train , (-1 , input_shape)) # here we converted (28, 28) array into (784,)\n",
        "x_test = np.reshape(x_test , (-1 , input_shape))\n",
        "x_train = x_train.astype('float32')/255# to get all values in binary , we divided each value by 255\n",
        "x_test = x_test.astype('float32')/255# as each pixel value hold between 0-255"
      ],
      "metadata": {
        "id": "VCllwLq88vBK"
      },
      "execution_count": 39,
      "outputs": []
    },
    {
      "cell_type": "code",
      "source": [
        "model = Sequential()\n",
        "model.add(Dense(512 , activation = 'relu' , input_shape = (input_shape,)))\n",
        "model.add(Dropout(0.2))\n",
        "model.add(Dense(512 , activation = 'relu'))\n",
        "model.add(Dropout(0.2))\n",
        "model.add(Dense(num_label , activation = 'softmax'))"
      ],
      "metadata": {
        "id": "Gmf5XZpY81l6"
      },
      "execution_count": 42,
      "outputs": []
    },
    {
      "cell_type": "code",
      "source": [
        "model.compile(loss = 'categorical_crossentropy' , optimizer = 'adam' , metrics = ['accuracy'])"
      ],
      "metadata": {
        "id": "HMLHCXMHDa6e"
      },
      "execution_count": 43,
      "outputs": []
    },
    {
      "cell_type": "code",
      "source": [
        "model.summary()"
      ],
      "metadata": {
        "colab": {
          "base_uri": "https://localhost:8080/"
        },
        "id": "-KpVozPMDi-0",
        "outputId": "e60b684b-138c-4576-984f-870c04215d20"
      },
      "execution_count": 44,
      "outputs": [
        {
          "output_type": "stream",
          "name": "stdout",
          "text": [
            "Model: \"sequential\"\n",
            "_________________________________________________________________\n",
            " Layer (type)                Output Shape              Param #   \n",
            "=================================================================\n",
            " dense (Dense)               (None, 512)               401920    \n",
            "                                                                 \n",
            " dropout (Dropout)           (None, 512)               0         \n",
            "                                                                 \n",
            " dense_1 (Dense)             (None, 512)               262656    \n",
            "                                                                 \n",
            " dropout_1 (Dropout)         (None, 512)               0         \n",
            "                                                                 \n",
            " dense_2 (Dense)             (None, 10)                5130      \n",
            "                                                                 \n",
            "=================================================================\n",
            "Total params: 669706 (2.55 MB)\n",
            "Trainable params: 669706 (2.55 MB)\n",
            "Non-trainable params: 0 (0.00 Byte)\n",
            "_________________________________________________________________\n"
          ]
        }
      ]
    },
    {
      "cell_type": "code",
      "source": [
        "model.fit(x_train , y_train , batch_size = 128 , epochs = 10 , validation_split = 0.2)"
      ],
      "metadata": {
        "colab": {
          "base_uri": "https://localhost:8080/"
        },
        "id": "Nd9ycZOgDlIk",
        "outputId": "2ff18a61-3978-4faf-c87d-6cb155ebd0c6"
      },
      "execution_count": 45,
      "outputs": [
        {
          "output_type": "stream",
          "name": "stdout",
          "text": [
            "Epoch 1/10\n",
            "375/375 [==============================] - 10s 22ms/step - loss: 0.2811 - accuracy: 0.9154 - val_loss: 0.1294 - val_accuracy: 0.9600\n",
            "Epoch 2/10\n",
            "375/375 [==============================] - 8s 21ms/step - loss: 0.1104 - accuracy: 0.9657 - val_loss: 0.0938 - val_accuracy: 0.9700\n",
            "Epoch 3/10\n",
            "375/375 [==============================] - 9s 23ms/step - loss: 0.0758 - accuracy: 0.9758 - val_loss: 0.0827 - val_accuracy: 0.9747\n",
            "Epoch 4/10\n",
            "375/375 [==============================] - 7s 19ms/step - loss: 0.0586 - accuracy: 0.9806 - val_loss: 0.0856 - val_accuracy: 0.9762\n",
            "Epoch 5/10\n",
            "375/375 [==============================] - 9s 24ms/step - loss: 0.0457 - accuracy: 0.9854 - val_loss: 0.0793 - val_accuracy: 0.9763\n",
            "Epoch 6/10\n",
            "375/375 [==============================] - 8s 21ms/step - loss: 0.0417 - accuracy: 0.9865 - val_loss: 0.0800 - val_accuracy: 0.9771\n",
            "Epoch 7/10\n",
            "375/375 [==============================] - 8s 22ms/step - loss: 0.0335 - accuracy: 0.9886 - val_loss: 0.0883 - val_accuracy: 0.9765\n",
            "Epoch 8/10\n",
            "375/375 [==============================] - 9s 24ms/step - loss: 0.0310 - accuracy: 0.9897 - val_loss: 0.0884 - val_accuracy: 0.9762\n",
            "Epoch 9/10\n",
            "375/375 [==============================] - 7s 19ms/step - loss: 0.0265 - accuracy: 0.9907 - val_loss: 0.0797 - val_accuracy: 0.9807\n",
            "Epoch 10/10\n",
            "375/375 [==============================] - 9s 24ms/step - loss: 0.0258 - accuracy: 0.9913 - val_loss: 0.0891 - val_accuracy: 0.9789\n"
          ]
        },
        {
          "output_type": "execute_result",
          "data": {
            "text/plain": [
              "<keras.src.callbacks.History at 0x7b1a24dbd5d0>"
            ]
          },
          "metadata": {},
          "execution_count": 45
        }
      ]
    },
    {
      "cell_type": "code",
      "source": [
        "loss , accuracy = model.evaluate(x_test , y_test)"
      ],
      "metadata": {
        "colab": {
          "base_uri": "https://localhost:8080/"
        },
        "id": "iA2UWl8sDonV",
        "outputId": "efeb1860-34e3-451e-9add-5c56ca1bd766"
      },
      "execution_count": 46,
      "outputs": [
        {
          "output_type": "stream",
          "name": "stdout",
          "text": [
            "313/313 [==============================] - 3s 8ms/step - loss: 0.0717 - accuracy: 0.9809\n"
          ]
        }
      ]
    },
    {
      "cell_type": "code",
      "source": [
        "y_pred = model.predict(x_test)"
      ],
      "metadata": {
        "colab": {
          "base_uri": "https://localhost:8080/"
        },
        "id": "GllvS5a5E16o",
        "outputId": "8a49c480-829f-4af6-ec6f-603a736c623c"
      },
      "execution_count": 47,
      "outputs": [
        {
          "output_type": "stream",
          "name": "stdout",
          "text": [
            "313/313 [==============================] - 2s 6ms/step\n"
          ]
        }
      ]
    },
    {
      "cell_type": "code",
      "source": [
        "y_pred = np.argmax(y_pred , axis = 1)"
      ],
      "metadata": {
        "id": "8pxcHd3DE7ps"
      },
      "execution_count": 48,
      "outputs": []
    },
    {
      "cell_type": "code",
      "source": [
        "y_pred[0]"
      ],
      "metadata": {
        "colab": {
          "base_uri": "https://localhost:8080/"
        },
        "id": "fh7KK5GJFAOB",
        "outputId": "6b7c8645-c9a3-4da3-81a5-e1be7a3ecff3"
      },
      "execution_count": 49,
      "outputs": [
        {
          "output_type": "execute_result",
          "data": {
            "text/plain": [
              "7"
            ]
          },
          "metadata": {},
          "execution_count": 49
        }
      ]
    },
    {
      "cell_type": "code",
      "source": [
        "from sklearn.metrics import confusion_matrix\n",
        "from sklearn.metrics import classification_report\n",
        "from sklearn.metrics import accuracy_score,precision_score,recall_score,f1_score"
      ],
      "metadata": {
        "id": "B_FUyJaYFRP1"
      },
      "execution_count": 50,
      "outputs": []
    },
    {
      "cell_type": "code",
      "source": [
        "y_test  = np.argmax(y_test , axis = 1)"
      ],
      "metadata": {
        "id": "8iPvncrIFjxp"
      },
      "execution_count": 51,
      "outputs": []
    },
    {
      "cell_type": "code",
      "source": [
        "matrix = confusion_matrix(y_test , y_pred)\n",
        "matrix"
      ],
      "metadata": {
        "colab": {
          "base_uri": "https://localhost:8080/"
        },
        "id": "SadD82W8Fo-r",
        "outputId": "831f1e88-6879-4e63-dd9f-d0d490eb69a6"
      },
      "execution_count": 54,
      "outputs": [
        {
          "output_type": "execute_result",
          "data": {
            "text/plain": [
              "array([[ 974,    0,    0,    0,    1,    0,    1,    0,    3,    1],\n",
              "       [   0, 1123,    4,    0,    0,    0,    3,    0,    5,    0],\n",
              "       [   3,    0, 1011,    0,    2,    0,    3,    5,    7,    1],\n",
              "       [   1,    0,    6,  972,    0,   13,    0,    4,   11,    3],\n",
              "       [   0,    0,    1,    0,  968,    0,    5,    2,    1,    5],\n",
              "       [   2,    0,    0,    2,    1,  875,    2,    0,    8,    2],\n",
              "       [   5,    2,    0,    1,    2,    2,  945,    0,    1,    0],\n",
              "       [   1,    4,    7,    1,    1,    0,    0, 1003,    5,    6],\n",
              "       [   0,    0,    1,    2,    0,    2,    0,    2,  965,    2],\n",
              "       [   3,    3,    0,    2,   10,    5,    0,    5,    8,  973]])"
            ]
          },
          "metadata": {},
          "execution_count": 54
        }
      ]
    },
    {
      "cell_type": "code",
      "source": [
        "print(accuracy_score(y_test , y_pred ))\n",
        "print(precision_score(y_test , y_pred , average = 'weighted'))\n",
        "print(recall_score(y_test , y_pred , average = 'weighted'))\n",
        "print(f1_score(y_test , y_pred , average = 'weighted'))"
      ],
      "metadata": {
        "colab": {
          "base_uri": "https://localhost:8080/"
        },
        "id": "Hv7DOm7cFqwP",
        "outputId": "8be038b3-af11-4f94-fa89-c9e264c9c9ba"
      },
      "execution_count": 57,
      "outputs": [
        {
          "output_type": "stream",
          "name": "stdout",
          "text": [
            "0.9809\n",
            "0.9810507139587966\n",
            "0.9809\n",
            "0.9809039422933321\n"
          ]
        }
      ]
    },
    {
      "cell_type": "code",
      "source": [],
      "metadata": {
        "id": "6dmy6BNJGLbc"
      },
      "execution_count": null,
      "outputs": []
    }
  ]
}